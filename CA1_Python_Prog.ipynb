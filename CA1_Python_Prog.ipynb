{
 "cells": [
  {
   "cell_type": "markdown",
   "id": "8f1ca437-8dc8-4cda-88ab-ca83f9fe2e6e",
   "metadata": {},
   "source": [
    "# Q1: Categorize numeric and categorical column of a DF"
   ]
  },
  {
   "cell_type": "code",
   "execution_count": 231,
   "id": "9c447dec-7484-42c9-a429-b6e7c6917fde",
   "metadata": {},
   "outputs": [],
   "source": [
    "# import panda library\n",
    "import pandas as pd\n",
    "\n",
    "# define a custom function to categorize columns in a data frame\n",
    "def find_type(df):\n",
    "    num_type = []\n",
    "    cat_type = []\n",
    "    for name, type in df.dtypes.items():\n",
    "        if type in ['float64', 'int64']:\n",
    "            num_type.append(name)\n",
    "        else:\n",
    "            cat_type.append(name)\n",
    "\n",
    "    return num_type, cat_type\n",
    "        \n",
    "       "
   ]
  },
  {
   "cell_type": "code",
   "execution_count": 268,
   "id": "1dcad16b-e7ee-41b3-a2c3-6209fee63442",
   "metadata": {},
   "outputs": [
    {
     "name": "stdout",
     "output_type": "stream",
     "text": [
      "Numerical Columns are ['Driving Test Distribution']\n",
      "Categorical Columns are ['Month', 'Driving Test Centre', 'UNIT'] \n",
      "\n"
     ]
    },
    {
     "data": {
      "text/html": [
       "<div>\n",
       "<style scoped>\n",
       "    .dataframe tbody tr th:only-of-type {\n",
       "        vertical-align: middle;\n",
       "    }\n",
       "\n",
       "    .dataframe tbody tr th {\n",
       "        vertical-align: top;\n",
       "    }\n",
       "\n",
       "    .dataframe thead th {\n",
       "        text-align: right;\n",
       "    }\n",
       "</style>\n",
       "<table border=\"1\" class=\"dataframe\">\n",
       "  <thead>\n",
       "    <tr style=\"text-align: right;\">\n",
       "      <th></th>\n",
       "      <th>Month</th>\n",
       "      <th>Driving Test Centre</th>\n",
       "      <th>UNIT</th>\n",
       "      <th>Driving Test Distribution</th>\n",
       "    </tr>\n",
       "  </thead>\n",
       "  <tbody>\n",
       "    <tr>\n",
       "      <th>1423</th>\n",
       "      <td>2024 September</td>\n",
       "      <td>Tullamore, Co. Offaly</td>\n",
       "      <td>Number</td>\n",
       "      <td>3.0</td>\n",
       "    </tr>\n",
       "    <tr>\n",
       "      <th>1424</th>\n",
       "      <td>2024 September</td>\n",
       "      <td>Waterford, Co. Waterford</td>\n",
       "      <td>Number</td>\n",
       "      <td>6.0</td>\n",
       "    </tr>\n",
       "    <tr>\n",
       "      <th>1425</th>\n",
       "      <td>2024 September</td>\n",
       "      <td>Wexford, Co. Wexford</td>\n",
       "      <td>Number</td>\n",
       "      <td>2.0</td>\n",
       "    </tr>\n",
       "    <tr>\n",
       "      <th>1426</th>\n",
       "      <td>2024 September</td>\n",
       "      <td>Wicklow, Co. Wicklow</td>\n",
       "      <td>Number</td>\n",
       "      <td>1.0</td>\n",
       "    </tr>\n",
       "    <tr>\n",
       "      <th>1427</th>\n",
       "      <td>2024 September</td>\n",
       "      <td>Portlaoise (Maldron Hotel), Co. Laois</td>\n",
       "      <td>Number</td>\n",
       "      <td>NaN</td>\n",
       "    </tr>\n",
       "  </tbody>\n",
       "</table>\n",
       "</div>"
      ],
      "text/plain": [
       "               Month                    Driving Test Centre    UNIT  \\\n",
       "1423  2024 September                  Tullamore, Co. Offaly  Number   \n",
       "1424  2024 September               Waterford, Co. Waterford  Number   \n",
       "1425  2024 September                   Wexford, Co. Wexford  Number   \n",
       "1426  2024 September                   Wicklow, Co. Wicklow  Number   \n",
       "1427  2024 September  Portlaoise (Maldron Hotel), Co. Laois  Number   \n",
       "\n",
       "      Driving Test Distribution  \n",
       "1423                        3.0  \n",
       "1424                        6.0  \n",
       "1425                        2.0  \n",
       "1426                        1.0  \n",
       "1427                        NaN  "
      ]
     },
     "execution_count": 268,
     "metadata": {},
     "output_type": "execute_result"
    }
   ],
   "source": [
    "import pandas as pd\n",
    "# Import dataset ROA38 - Driving Tester Distribution (https://data.cso.ie/table/ROA38)\n",
    "# Remove irrelevant columns\n",
    "use_cols = [3, 5, 6, 7]\n",
    "df_dtd = pd.read_csv('ROA38.csv', usecols = use_cols)\n",
    "# df_dtd.head()\n",
    "\n",
    "# Change the order of column as in the below\n",
    "col_order = ['Month', 'Driving Test Centre', 'UNIT', 'VALUE']\n",
    "\n",
    "# update the dataframe with column order\n",
    "df_dtd = df_dtd[col_order]\n",
    "\n",
    "#rename the value column with a meaningful name\n",
    "df_dtd.rename(columns={\"VALUE\": \"Driving Test Distribution\"}, inplace = True)\n",
    "\n",
    "# find the dtypes using custom function find_type\n",
    "num_dtd, cat_dtd = find_type(df_dtd)\n",
    "\n",
    "print('Numerical Columns are {}'.format(num_dtd))\n",
    "print('Categorical Columns are {} \\n'.format(cat_dtd))\n",
    "\n",
    "df_dtd.tail()"
   ]
  },
  {
   "cell_type": "code",
   "execution_count": 308,
   "id": "cb1b6b69-78d5-4445-84c9-f8d8bbc28683",
   "metadata": {},
   "outputs": [
    {
     "name": "stdout",
     "output_type": "stream",
     "text": [
      "Numerical Columns are ['Period', 'Driving Test Wait Time']\n",
      "Categorical Columns are ['Month', 'Driving Test Centre', 'UNIT']\n"
     ]
    },
    {
     "data": {
      "text/html": [
       "<div>\n",
       "<style scoped>\n",
       "    .dataframe tbody tr th:only-of-type {\n",
       "        vertical-align: middle;\n",
       "    }\n",
       "\n",
       "    .dataframe tbody tr th {\n",
       "        vertical-align: top;\n",
       "    }\n",
       "\n",
       "    .dataframe thead th {\n",
       "        text-align: right;\n",
       "    }\n",
       "</style>\n",
       "<table border=\"1\" class=\"dataframe\">\n",
       "  <thead>\n",
       "    <tr style=\"text-align: right;\">\n",
       "      <th></th>\n",
       "      <th>Period</th>\n",
       "      <th>Month</th>\n",
       "      <th>Driving Test Centre</th>\n",
       "      <th>UNIT</th>\n",
       "      <th>Driving Test Wait Time</th>\n",
       "    </tr>\n",
       "  </thead>\n",
       "  <tbody>\n",
       "    <tr>\n",
       "      <th>2511</th>\n",
       "      <td>202409</td>\n",
       "      <td>2024 September</td>\n",
       "      <td>Tullamore, Co. Offaly</td>\n",
       "      <td>Weeks</td>\n",
       "      <td>16.0</td>\n",
       "    </tr>\n",
       "    <tr>\n",
       "      <th>2512</th>\n",
       "      <td>202409</td>\n",
       "      <td>2024 September</td>\n",
       "      <td>Waterford, Co. Waterford</td>\n",
       "      <td>Weeks</td>\n",
       "      <td>15.0</td>\n",
       "    </tr>\n",
       "    <tr>\n",
       "      <th>2513</th>\n",
       "      <td>202409</td>\n",
       "      <td>2024 September</td>\n",
       "      <td>Wexford, Co. Wexford</td>\n",
       "      <td>Weeks</td>\n",
       "      <td>20.0</td>\n",
       "    </tr>\n",
       "    <tr>\n",
       "      <th>2514</th>\n",
       "      <td>202409</td>\n",
       "      <td>2024 September</td>\n",
       "      <td>Wicklow, Co. Wicklow</td>\n",
       "      <td>Weeks</td>\n",
       "      <td>21.0</td>\n",
       "    </tr>\n",
       "    <tr>\n",
       "      <th>2515</th>\n",
       "      <td>202409</td>\n",
       "      <td>2024 September</td>\n",
       "      <td>Portlaoise (Maldron Hotel), Co. Laois</td>\n",
       "      <td>Weeks</td>\n",
       "      <td>21.0</td>\n",
       "    </tr>\n",
       "  </tbody>\n",
       "</table>\n",
       "</div>"
      ],
      "text/plain": [
       "      Period           Month                    Driving Test Centre   UNIT  \\\n",
       "2511  202409  2024 September                  Tullamore, Co. Offaly  Weeks   \n",
       "2512  202409  2024 September               Waterford, Co. Waterford  Weeks   \n",
       "2513  202409  2024 September                   Wexford, Co. Wexford  Weeks   \n",
       "2514  202409  2024 September                   Wicklow, Co. Wicklow  Weeks   \n",
       "2515  202409  2024 September  Portlaoise (Maldron Hotel), Co. Laois  Weeks   \n",
       "\n",
       "      Driving Test Wait Time  \n",
       "2511                    16.0  \n",
       "2512                    15.0  \n",
       "2513                    20.0  \n",
       "2514                    21.0  \n",
       "2515                    21.0  "
      ]
     },
     "execution_count": 308,
     "metadata": {},
     "output_type": "execute_result"
    }
   ],
   "source": [
    "# Import dataset ROA36 - Driving Test Waiting Time (https://data.cso.ie/table/ROA36)\n",
    "# Remove irrelevant columns\n",
    "use_cols = [2, 3, 5, 6, 7]\n",
    "df_dtwt = pd.read_csv('ROA36.csv', usecols = use_cols)\n",
    "\n",
    "# Change the order of column as in the below\n",
    "col_order = ['TLIST(M1)', 'Month', 'Driving Test Centre', 'UNIT', 'VALUE']\n",
    "\n",
    "# update the dataframe with column order\n",
    "df_dtwt = df_dtwt[col_order]\n",
    "\n",
    "#rename the value column with a meaningful name\n",
    "df_dtwt.rename(columns={\"TLIST(M1)\": \"Period\", \"VALUE\": \"Driving Test Wait Time\"}, inplace = True)\n",
    "\n",
    "# find the dtypes using custom function find_type\n",
    "num_dtwt, cat_dtwt = find_type(df_dtwt)\n",
    "\n",
    "print('Numerical Columns are', num_dtwt)\n",
    "print('Categorical Columns are', cat_dtwt)\n",
    "\n",
    "df_dtwt.tail()"
   ]
  },
  {
   "cell_type": "markdown",
   "id": "e32004d9-ddf9-495e-a414-b190f6b15657",
   "metadata": {},
   "source": [
    "# Q2.1 - Concatenate 2 Dataset"
   ]
  },
  {
   "cell_type": "code",
   "execution_count": 284,
   "id": "f2592a43-ba37-4a5a-82a1-cd52e50bc8a3",
   "metadata": {},
   "outputs": [],
   "source": [
    "# Function to concate two dataset\n",
    "def concat_df(df1, df2):\n",
    "    concat_df = pd.concat([df1, df2]) \n",
    "    return concat_df\n",
    "    \n",
    "    "
   ]
  },
  {
   "cell_type": "code",
   "execution_count": 296,
   "id": "d427ad6d-00e9-4959-a413-ca3851ac007f",
   "metadata": {},
   "outputs": [
    {
     "name": "stdout",
     "output_type": "stream",
     "text": [
      "Number of rows in the concatenated dataset: 3944\n",
      "Number of columns in the concatenated dataset: 6\n"
     ]
    }
   ],
   "source": [
    "# call the custom function to concate dataset\n",
    "# pass 2 dataset and get the resultant dataset\n",
    "\n",
    "df_concat = concat_df(df_dtd, df_dtwt)\n",
    "\n",
    "# remove the duplicated records by using function drop_duplicates\n",
    "df_concat = df_concat.drop_duplicates()\n",
    "\n",
    "#Find the row and column count\n",
    "row_count, col_count = df_concat.shape\n",
    "\n",
    "#print row and column count\n",
    "\n",
    "print('Number of rows in the concatenated dataset:', row_count)\n",
    "print('Number of columns in the concatenated dataset:', col_count)\n"
   ]
  },
  {
   "cell_type": "markdown",
   "id": "6cc312c3-74cf-4c90-87b5-03caa9724715",
   "metadata": {},
   "source": [
    "# Q2.2 - Calculate correlation matrix using NumPy"
   ]
  },
  {
   "cell_type": "code",
   "execution_count": null,
   "id": "4eab8dd0-8bbf-47b8-a388-069f3b596b61",
   "metadata": {},
   "outputs": [],
   "source": []
  }
 ],
 "metadata": {
  "kernelspec": {
   "display_name": "Python 3 (ipykernel)",
   "language": "python",
   "name": "python3"
  },
  "language_info": {
   "codemirror_mode": {
    "name": "ipython",
    "version": 3
   },
   "file_extension": ".py",
   "mimetype": "text/x-python",
   "name": "python",
   "nbconvert_exporter": "python",
   "pygments_lexer": "ipython3",
   "version": "3.12.4"
  }
 },
 "nbformat": 4,
 "nbformat_minor": 5
}
