{
 "cells": [
  {
   "cell_type": "markdown",
   "id": "8f1ca437-8dc8-4cda-88ab-ca83f9fe2e6e",
   "metadata": {},
   "source": [
    "# Q1: Categorize numeric and categorical column of a DF"
   ]
  },
  {
   "cell_type": "code",
   "execution_count": null,
   "id": "9c447dec-7484-42c9-a429-b6e7c6917fde",
   "metadata": {},
   "outputs": [],
   "source": [
    "# import panda library\n",
    "import panda as pd\n",
    "\n",
    "# define a custom function to categorize columns in a data frame\n",
    "def cat_col(df):\n",
    "       "
   ]
  },
  {
   "cell_type": "code",
   "execution_count": 45,
   "id": "1dcad16b-e7ee-41b3-a2c3-6209fee63442",
   "metadata": {},
   "outputs": [
    {
     "ename": "NotImplementedError",
     "evalue": "",
     "output_type": "error",
     "traceback": [
      "\u001b[1;31m---------------------------------------------------------------------------\u001b[0m",
      "\u001b[1;31mNotImplementedError\u001b[0m                       Traceback (most recent call last)",
      "Cell \u001b[1;32mIn[45], line 12\u001b[0m\n\u001b[0;32m      1\u001b[0m \u001b[38;5;28;01mimport\u001b[39;00m \u001b[38;5;21;01mpandas\u001b[39;00m \u001b[38;5;28;01mas\u001b[39;00m \u001b[38;5;21;01mpd\u001b[39;00m\n\u001b[0;32m      2\u001b[0m \u001b[38;5;66;03m# Import dataset 1\u001b[39;00m\n\u001b[0;32m      3\u001b[0m \u001b[38;5;66;03m# ds_dtd = pd.read_csv('ROA38.csv')\u001b[39;00m\n\u001b[0;32m      4\u001b[0m \u001b[38;5;66;03m# ds_dtd.head(100)\u001b[39;00m\n\u001b[1;32m   (...)\u001b[0m\n\u001b[0;32m      9\u001b[0m \u001b[38;5;66;03m# ds = pd.read_json('https://ws.cso.ie/public/api.jsonrpc?data=%7B%22jsonrpc%22:%222.0%22,%22method%22:%22PxStat.Data.Cube_API.ReadDataset%22,%22params%22:%7B%22class%22:%22query%22,%22id%22:%5B%5D,%22dimension%22:%7B%7D,%22extension%22:%7B%22pivot%22:null,%22codes%22:false,%22language%22:%7B%22code%22:%22en%22%7D,%22format%22:%7B%22type%22:%22JSON-stat%22,%22version%22:%222.0%22%7D,%22matrix%22:%22ROA38%22%7D,%22version%22:%222.0%22%7D%7D')\u001b[39;00m\n\u001b[0;32m     10\u001b[0m \u001b[38;5;66;03m# ds.result.head()\u001b[39;00m\n\u001b[1;32m---> 12\u001b[0m d1 \u001b[38;5;241m=\u001b[39m pd\u001b[38;5;241m.\u001b[39mjson_normalize(\u001b[38;5;124m'\u001b[39m\u001b[38;5;124mhttps://ws.cso.ie/public/api.jsonrpc?data=\u001b[39m\u001b[38;5;124m%\u001b[39m\u001b[38;5;124m7B\u001b[39m\u001b[38;5;124m%\u001b[39m\u001b[38;5;124m22jsonrpc\u001b[39m\u001b[38;5;124m%\u001b[39m\u001b[38;5;124m22:\u001b[39m\u001b[38;5;132;01m%222.0%\u001b[39;00m\u001b[38;5;124m22,\u001b[39m\u001b[38;5;124m%\u001b[39m\u001b[38;5;124m22method\u001b[39m\u001b[38;5;124m%\u001b[39m\u001b[38;5;124m22:\u001b[39m\u001b[38;5;124m%\u001b[39m\u001b[38;5;124m22PxStat.Data.Cube_API.ReadDataset\u001b[39m\u001b[38;5;124m%\u001b[39m\u001b[38;5;124m22,\u001b[39m\u001b[38;5;124m%\u001b[39m\u001b[38;5;124m22params\u001b[39m\u001b[38;5;124m%\u001b[39m\u001b[38;5;124m22:\u001b[39m\u001b[38;5;124m%\u001b[39m\u001b[38;5;124m7B\u001b[39m\u001b[38;5;132;01m%22c\u001b[39;00m\u001b[38;5;124mlass\u001b[39m\u001b[38;5;124m%\u001b[39m\u001b[38;5;124m22:\u001b[39m\u001b[38;5;124m%\u001b[39m\u001b[38;5;124m22query\u001b[39m\u001b[38;5;124m%\u001b[39m\u001b[38;5;124m22,\u001b[39m\u001b[38;5;132;01m%22i\u001b[39;00m\u001b[38;5;124md\u001b[39m\u001b[38;5;124m%\u001b[39m\u001b[38;5;124m22:\u001b[39m\u001b[38;5;124m%\u001b[39m\u001b[38;5;124m5B\u001b[39m\u001b[38;5;124m%\u001b[39m\u001b[38;5;124m5D,\u001b[39m\u001b[38;5;132;01m%22d\u001b[39;00m\u001b[38;5;124mimension\u001b[39m\u001b[38;5;124m%\u001b[39m\u001b[38;5;124m22:\u001b[39m\u001b[38;5;124m%\u001b[39m\u001b[38;5;124m7B\u001b[39m\u001b[38;5;124m%\u001b[39m\u001b[38;5;124m7D,\u001b[39m\u001b[38;5;132;01m%22e\u001b[39;00m\u001b[38;5;124mxtension\u001b[39m\u001b[38;5;124m%\u001b[39m\u001b[38;5;124m22:\u001b[39m\u001b[38;5;124m%\u001b[39m\u001b[38;5;124m7B\u001b[39m\u001b[38;5;124m%\u001b[39m\u001b[38;5;124m22pivot\u001b[39m\u001b[38;5;124m%\u001b[39m\u001b[38;5;124m22:null,\u001b[39m\u001b[38;5;132;01m%22c\u001b[39;00m\u001b[38;5;124modes\u001b[39m\u001b[38;5;124m%\u001b[39m\u001b[38;5;124m22:false,\u001b[39m\u001b[38;5;132;01m%22la\u001b[39;00m\u001b[38;5;124mnguage\u001b[39m\u001b[38;5;124m%\u001b[39m\u001b[38;5;124m22:\u001b[39m\u001b[38;5;124m%\u001b[39m\u001b[38;5;124m7B\u001b[39m\u001b[38;5;132;01m%22c\u001b[39;00m\u001b[38;5;124mode\u001b[39m\u001b[38;5;124m%\u001b[39m\u001b[38;5;124m22:\u001b[39m\u001b[38;5;132;01m%22e\u001b[39;00m\u001b[38;5;124mn\u001b[39m\u001b[38;5;132;01m%22%\u001b[39;00m\u001b[38;5;124m7D,\u001b[39m\u001b[38;5;132;01m%22f\u001b[39;00m\u001b[38;5;124mormat\u001b[39m\u001b[38;5;124m%\u001b[39m\u001b[38;5;124m22:\u001b[39m\u001b[38;5;124m%\u001b[39m\u001b[38;5;124m7B\u001b[39m\u001b[38;5;124m%\u001b[39m\u001b[38;5;124m22type\u001b[39m\u001b[38;5;124m%\u001b[39m\u001b[38;5;124m22:\u001b[39m\u001b[38;5;124m%\u001b[39m\u001b[38;5;124m22CSV\u001b[39m\u001b[38;5;124m%\u001b[39m\u001b[38;5;124m22,\u001b[39m\u001b[38;5;124m%\u001b[39m\u001b[38;5;124m22version\u001b[39m\u001b[38;5;124m%\u001b[39m\u001b[38;5;124m22:\u001b[39m\u001b[38;5;132;01m%221.0%\u001b[39;00m\u001b[38;5;124m22\u001b[39m\u001b[38;5;124m%\u001b[39m\u001b[38;5;124m7D,\u001b[39m\u001b[38;5;124m%\u001b[39m\u001b[38;5;124m22matrix\u001b[39m\u001b[38;5;124m%\u001b[39m\u001b[38;5;124m22:\u001b[39m\u001b[38;5;124m%\u001b[39m\u001b[38;5;124m22ROA38\u001b[39m\u001b[38;5;132;01m%22%\u001b[39;00m\u001b[38;5;124m7D,\u001b[39m\u001b[38;5;124m%\u001b[39m\u001b[38;5;124m22version\u001b[39m\u001b[38;5;124m%\u001b[39m\u001b[38;5;124m22:\u001b[39m\u001b[38;5;132;01m%222.0%\u001b[39;00m\u001b[38;5;124m22\u001b[39m\u001b[38;5;124m%\u001b[39m\u001b[38;5;124m7D\u001b[39m\u001b[38;5;124m%\u001b[39m\u001b[38;5;124m7D\u001b[39m\u001b[38;5;124m'\u001b[39m)\n\u001b[0;32m     13\u001b[0m d1\u001b[38;5;241m.\u001b[39mhead()\n",
      "File \u001b[1;32m~\\AppData\\Local\\anaconda3\\Lib\\site-packages\\pandas\\io\\json\\_normalize.py:445\u001b[0m, in \u001b[0;36mjson_normalize\u001b[1;34m(data, record_path, meta, meta_prefix, record_prefix, errors, sep, max_level)\u001b[0m\n\u001b[0;32m    443\u001b[0m     data \u001b[38;5;241m=\u001b[39m \u001b[38;5;28mlist\u001b[39m(data)\n\u001b[0;32m    444\u001b[0m \u001b[38;5;28;01melse\u001b[39;00m:\n\u001b[1;32m--> 445\u001b[0m     \u001b[38;5;28;01mraise\u001b[39;00m \u001b[38;5;167;01mNotImplementedError\u001b[39;00m\n\u001b[0;32m    447\u001b[0m \u001b[38;5;66;03m# check to see if a simple recursive function is possible to\u001b[39;00m\n\u001b[0;32m    448\u001b[0m \u001b[38;5;66;03m# improve performance (see #15621) but only for cases such\u001b[39;00m\n\u001b[0;32m    449\u001b[0m \u001b[38;5;66;03m# as pd.Dataframe(data) or pd.Dataframe(data, sep)\u001b[39;00m\n\u001b[0;32m    450\u001b[0m \u001b[38;5;28;01mif\u001b[39;00m (\n\u001b[0;32m    451\u001b[0m     record_path \u001b[38;5;129;01mis\u001b[39;00m \u001b[38;5;28;01mNone\u001b[39;00m\n\u001b[0;32m    452\u001b[0m     \u001b[38;5;129;01mand\u001b[39;00m meta \u001b[38;5;129;01mis\u001b[39;00m \u001b[38;5;28;01mNone\u001b[39;00m\n\u001b[1;32m   (...)\u001b[0m\n\u001b[0;32m    455\u001b[0m     \u001b[38;5;129;01mand\u001b[39;00m max_level \u001b[38;5;129;01mis\u001b[39;00m \u001b[38;5;28;01mNone\u001b[39;00m\n\u001b[0;32m    456\u001b[0m ):\n",
      "\u001b[1;31mNotImplementedError\u001b[0m: "
     ]
    }
   ],
   "source": [
    "import pandas as pd\n",
    "# Import dataset 1\n",
    "# ds_dtd = pd.read_csv('ROA38.csv')\n",
    "# ds_dtd.head(100)\n",
    "\n",
    "# ds = pd.read_html('https://data.cso.ie/table/ROA38')\n",
    "# ds.head()\n",
    "\n",
    "# ds = pd.read_json('https://ws.cso.ie/public/api.jsonrpc?data=%7B%22jsonrpc%22:%222.0%22,%22method%22:%22PxStat.Data.Cube_API.ReadDataset%22,%22params%22:%7B%22class%22:%22query%22,%22id%22:%5B%5D,%22dimension%22:%7B%7D,%22extension%22:%7B%22pivot%22:null,%22codes%22:false,%22language%22:%7B%22code%22:%22en%22%7D,%22format%22:%7B%22type%22:%22JSON-stat%22,%22version%22:%222.0%22%7D,%22matrix%22:%22ROA38%22%7D,%22version%22:%222.0%22%7D%7D')\n",
    "# ds.result.head()\n",
    "\n",
    "d1 = pd.json_normalize('https://ws.cso.ie/public/api.jsonrpc?data=%7B%22jsonrpc%22:%222.0%22,%22method%22:%22PxStat.Data.Cube_API.ReadDataset%22,%22params%22:%7B%22class%22:%22query%22,%22id%22:%5B%5D,%22dimension%22:%7B%7D,%22extension%22:%7B%22pivot%22:null,%22codes%22:false,%22language%22:%7B%22code%22:%22en%22%7D,%22format%22:%7B%22type%22:%22CSV%22,%22version%22:%221.0%22%7D,%22matrix%22:%22ROA38%22%7D,%22version%22:%222.0%22%7D%7D')\n",
    "d1.head()"
   ]
  },
  {
   "cell_type": "code",
   "execution_count": null,
   "id": "cb1b6b69-78d5-4445-84c9-f8d8bbc28683",
   "metadata": {},
   "outputs": [],
   "source": []
  }
 ],
 "metadata": {
  "kernelspec": {
   "display_name": "Python 3 (ipykernel)",
   "language": "python",
   "name": "python3"
  },
  "language_info": {
   "codemirror_mode": {
    "name": "ipython",
    "version": 3
   },
   "file_extension": ".py",
   "mimetype": "text/x-python",
   "name": "python",
   "nbconvert_exporter": "python",
   "pygments_lexer": "ipython3",
   "version": "3.12.4"
  }
 },
 "nbformat": 4,
 "nbformat_minor": 5
}
