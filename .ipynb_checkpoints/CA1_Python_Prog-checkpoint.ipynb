{
 "cells": [
  {
   "cell_type": "markdown",
   "id": "8f1ca437-8dc8-4cda-88ab-ca83f9fe2e6e",
   "metadata": {},
   "source": [
    "# Q1: Categorize numeric and categorical column of a DF"
   ]
  },
  {
   "cell_type": "code",
   "execution_count": 231,
   "id": "9c447dec-7484-42c9-a429-b6e7c6917fde",
   "metadata": {},
   "outputs": [],
   "source": [
    "# import panda library\n",
    "import pandas as pd\n",
    "\n",
    "# define a custom function to categorize columns in a data frame\n",
    "def find_type(df):\n",
    "    num_type = []\n",
    "    cat_type = []\n",
    "    for name, type in df.dtypes.items():\n",
    "        if type in ['float64', 'int64']:\n",
    "            num_type.append(name)\n",
    "        else:\n",
    "            cat_type.append(name)\n",
    "\n",
    "    return num_type, cat_type\n",
    "        \n",
    "       "
   ]
  },
  {
   "cell_type": "code",
   "execution_count": 233,
   "id": "1dcad16b-e7ee-41b3-a2c3-6209fee63442",
   "metadata": {},
   "outputs": [
    {
     "name": "stdout",
     "output_type": "stream",
     "text": [
      "Numerical Columns are ['Driving Test Distribution']\n",
      "Categorical Columns are ['Month', 'Driving Test Centre', 'UNIT'] \n",
      "\n"
     ]
    }
   ],
   "source": [
    "import pandas as pd\n",
    "# Import dataset ROA38 - Driving Tester Distribution (https://data.cso.ie/table/ROA38)\n",
    "# Remove irrelevant columns\n",
    "use_cols = [3, 5, 6, 7]\n",
    "df_dtd = pd.read_csv('ROA38.csv', usecols = use_cols)\n",
    "# df_dtd.head()\n",
    "\n",
    "# Change the order of column as in the below\n",
    "col_order = ['Month', 'Driving Test Centre', 'UNIT', 'VALUE']\n",
    "\n",
    "# update the dataframe with column order\n",
    "df_dtd = df_dtd[col_order]\n",
    "\n",
    "#rename the value column with a meaningful name\n",
    "df_dtd.rename(columns={\"VALUE\": \"Driving Test Distribution\"}, inplace = True)\n",
    "\n",
    "# find the dtypes using custom function find_type\n",
    "num_dtd, cat_dtd = find_type(df_dtd)\n",
    "\n",
    "print('Numerical Columns are {}'.format(num_dtd))\n",
    "print('Categorical Columns are {} \\n'.format(cat_dtd))\n"
   ]
  },
  {
   "cell_type": "code",
   "execution_count": 251,
   "id": "cb1b6b69-78d5-4445-84c9-f8d8bbc28683",
   "metadata": {},
   "outputs": [
    {
     "name": "stdout",
     "output_type": "stream",
     "text": [
      "Numerical Columns are ['Period', 'Driving Test Wait Time']\n",
      "Categorical Columns are ['Month', 'Driving Test Centre', 'UNIT'] \n",
      "\n"
     ]
    }
   ],
   "source": [
    "# Import dataset ROA36 - Driving Test Waiting Time (https://data.cso.ie/table/ROA36)\n",
    "# Remove irrelevant columns\n",
    "use_cols = [2, 3, 5, 6, 7]\n",
    "df_dtwt = pd.read_csv('ROA36.csv', usecols = use_cols)\n",
    "\n",
    "# Change the order of column as in the below\n",
    "col_order = ['TLIST(M1)', 'Month', 'Driving Test Centre', 'UNIT', 'VALUE']\n",
    "\n",
    "# update the dataframe with column order\n",
    "df_dtwt = df_dtwt[col_order]\n",
    "\n",
    "#rename the value column with a meaningful name\n",
    "df_dtwt.rename(columns={\"TLIST(M1)\": \"Period\", \"VALUE\": \"Driving Test Wait Time\"}, inplace = True)\n",
    "\n",
    "df_dtwt.head()\n",
    "\n",
    "# find the dtypes using custom function find_type\n",
    "num_dtwt, cat_dtwt = find_type(df_dtwt)\n",
    "\n",
    "print('Numerical Columns are {}'.format(num_dtwt))\n",
    "print('Categorical Columns are {} \\n'.format(cat_dtwt))"
   ]
  },
  {
   "cell_type": "code",
   "execution_count": null,
   "id": "fa5004fe-8195-4987-89e9-ecc2a09a0fb5",
   "metadata": {},
   "outputs": [],
   "source": []
  }
 ],
 "metadata": {
  "kernelspec": {
   "display_name": "Python 3 (ipykernel)",
   "language": "python",
   "name": "python3"
  },
  "language_info": {
   "codemirror_mode": {
    "name": "ipython",
    "version": 3
   },
   "file_extension": ".py",
   "mimetype": "text/x-python",
   "name": "python",
   "nbconvert_exporter": "python",
   "pygments_lexer": "ipython3",
   "version": "3.12.4"
  }
 },
 "nbformat": 4,
 "nbformat_minor": 5
}
