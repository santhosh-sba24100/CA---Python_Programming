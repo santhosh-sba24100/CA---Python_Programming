{
 "cells": [
  {
   "cell_type": "markdown",
   "id": "8f1ca437-8dc8-4cda-88ab-ca83f9fe2e6e",
   "metadata": {},
   "source": [
    "# Q1: Categorize numeric and categorical column of a DF"
   ]
  },
  {
   "cell_type": "code",
   "execution_count": null,
   "id": "9c447dec-7484-42c9-a429-b6e7c6917fde",
   "metadata": {},
   "outputs": [],
   "source": [
    "# import panda library\n",
    "import panda as pd\n",
    "\n",
    "# define a custom function to categorize columns in a data frame\n",
    "def cat_col(df):\n",
    "       "
   ]
  },
  {
   "cell_type": "code",
   "execution_count": null,
   "id": "1dcad16b-e7ee-41b3-a2c3-6209fee63442",
   "metadata": {},
   "outputs": [],
   "source": [
    "# Import dataset 1\n",
    "ds_dtd = pd.read.csv('https://data.cso.ie/table/ROA38')"
   ]
  }
 ],
 "metadata": {
  "kernelspec": {
   "display_name": "Python 3 (ipykernel)",
   "language": "python",
   "name": "python3"
  },
  "language_info": {
   "codemirror_mode": {
    "name": "ipython",
    "version": 3
   },
   "file_extension": ".py",
   "mimetype": "text/x-python",
   "name": "python",
   "nbconvert_exporter": "python",
   "pygments_lexer": "ipython3",
   "version": "3.12.4"
  }
 },
 "nbformat": 4,
 "nbformat_minor": 5
}
