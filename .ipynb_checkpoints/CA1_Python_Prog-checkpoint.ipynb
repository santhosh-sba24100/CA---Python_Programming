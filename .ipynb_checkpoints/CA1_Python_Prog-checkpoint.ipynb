{
 "cells": [
  {
   "cell_type": "markdown",
   "id": "8f1ca437-8dc8-4cda-88ab-ca83f9fe2e6e",
   "metadata": {},
   "source": [
    "# Q1: Categorize numeric and categorical column of a DF"
   ]
  },
  {
   "cell_type": "code",
   "execution_count": 313,
   "id": "9c447dec-7484-42c9-a429-b6e7c6917fde",
   "metadata": {},
   "outputs": [],
   "source": [
    "# import panda library\n",
    "import pandas as pd\n",
    "\n",
    "# define a custom function to categorize columns in a data frame\n",
    "def find_type(df):\n",
    "    num_type = []\n",
    "    cat_type = []\n",
    "    for name, type in df.dtypes.items():\n",
    "        if type in ['float64', 'int64']:\n",
    "            num_type.append(name)\n",
    "        else:\n",
    "            cat_type.append(name)\n",
    "\n",
    "    return num_type, cat_type\n",
    "        \n",
    "       "
   ]
  },
  {
   "cell_type": "code",
   "execution_count": 315,
   "id": "1dcad16b-e7ee-41b3-a2c3-6209fee63442",
   "metadata": {},
   "outputs": [
    {
     "name": "stdout",
     "output_type": "stream",
     "text": [
      "Numerical Columns are ['Driving Test Distribution']\n",
      "Categorical Columns are ['Month', 'Driving Test Centre', 'UNIT'] \n",
      "\n"
     ]
    }
   ],
   "source": [
    "import pandas as pd\n",
    "# Import dataset ROA38 - Driving Tester Distribution (https://data.cso.ie/table/ROA38)\n",
    "# Remove irrelevant columns\n",
    "use_cols = [3, 5, 6, 7]\n",
    "df_dtd = pd.read_csv('ROA38.csv', usecols = use_cols)\n",
    "# df_dtd.head()\n",
    "\n",
    "# Change the order of column as in the below\n",
    "col_order = ['Month', 'Driving Test Centre', 'UNIT', 'VALUE']\n",
    "\n",
    "# update the dataframe with column order\n",
    "df_dtd = df_dtd[col_order]\n",
    "\n",
    "#rename the value column with a meaningful name\n",
    "df_dtd.rename(columns={\"VALUE\": \"Driving Test Distribution\"}, inplace = True)\n",
    "\n",
    "# find the dtypes using custom function find_type\n",
    "num_dtd, cat_dtd = find_type(df_dtd)\n",
    "\n",
    "print('Numerical Columns are {}'.format(num_dtd))\n",
    "print('Categorical Columns are {} \\n'.format(cat_dtd))\n"
   ]
  },
  {
   "cell_type": "code",
   "execution_count": 319,
   "id": "cb1b6b69-78d5-4445-84c9-f8d8bbc28683",
   "metadata": {},
   "outputs": [
    {
     "name": "stdout",
     "output_type": "stream",
     "text": [
      "Numerical Columns are ['Period', 'Driving Test Wait Time']\n",
      "Categorical Columns are ['Month', 'Driving Test Centre', 'UNIT']\n"
     ]
    }
   ],
   "source": [
    "# Import dataset ROA36 - Driving Test Waiting Time (https://data.cso.ie/table/ROA36)\n",
    "# Remove irrelevant columns\n",
    "use_cols = [2, 3, 5, 6, 7]\n",
    "df_dtwt = pd.read_csv('ROA36.csv', usecols = use_cols)\n",
    "\n",
    "# Change the order of column as in the below\n",
    "col_order = ['TLIST(M1)', 'Month', 'Driving Test Centre', 'UNIT', 'VALUE']\n",
    "\n",
    "# update the dataframe with column order\n",
    "df_dtwt = df_dtwt[col_order]\n",
    "\n",
    "#rename the value column with a meaningful name\n",
    "df_dtwt.rename(columns={\"TLIST(M1)\": \"Period\", \"VALUE\": \"Driving Test Wait Time\"}, inplace = True)\n",
    "\n",
    "# find the dtypes using custom function find_type\n",
    "num_dtwt, cat_dtwt = find_type(df_dtwt)\n",
    "\n",
    "print('Numerical Columns are', num_dtwt)\n",
    "print('Categorical Columns are', cat_dtwt)\n",
    "\n"
   ]
  },
  {
   "cell_type": "markdown",
   "id": "e32004d9-ddf9-495e-a414-b190f6b15657",
   "metadata": {},
   "source": [
    "# Q2.1 - Concatenate 2 Dataset"
   ]
  },
  {
   "cell_type": "code",
   "execution_count": 322,
   "id": "f2592a43-ba37-4a5a-82a1-cd52e50bc8a3",
   "metadata": {},
   "outputs": [],
   "source": [
    "# Function to concate two dataset\n",
    "def concat_df(df1, df2):\n",
    "    concat_df = pd.concat([df1, df2]) \n",
    "    return concat_df\n",
    "    \n",
    "    "
   ]
  },
  {
   "cell_type": "code",
   "execution_count": 489,
   "id": "d427ad6d-00e9-4959-a413-ca3851ac007f",
   "metadata": {},
   "outputs": [
    {
     "name": "stdout",
     "output_type": "stream",
     "text": [
      "Number of rows in the concatenated dataset: 3944\n",
      "Number of columns in the concatenated dataset: 6\n"
     ]
    }
   ],
   "source": [
    "# call the custom function to concate dataset\n",
    "# pass 2 dataset and get the resultant dataset\n",
    "\n",
    "df_concat = concat_df(df_dtd, df_dtwt)\n",
    "\n",
    "# remove the duplicated records by using function drop_duplicates\n",
    "df_concat = df_concat.drop_duplicates()\n",
    "\n",
    "#Find the row and column count\n",
    "row_count, col_count = df_concat.shape\n",
    "\n",
    "#print row and column count\n",
    "\n",
    "print('Number of rows in the concatenated dataset:', row_count)\n",
    "print('Number of columns in the concatenated dataset:', col_count)\n"
   ]
  },
  {
   "cell_type": "markdown",
   "id": "6cc312c3-74cf-4c90-87b5-03caa9724715",
   "metadata": {},
   "source": [
    "# Q2.2 - Calculate correlation matrix using NumPy"
   ]
  },
  {
   "cell_type": "code",
   "execution_count": 391,
   "id": "4eab8dd0-8bbf-47b8-a388-069f3b596b61",
   "metadata": {},
   "outputs": [
    {
     "name": "stdout",
     "output_type": "stream",
     "text": [
      "[[ 1.          0.78436731  0.83453165         nan  0.66292435  0.04408178\n",
      "  -0.47191055]\n",
      " [ 0.78436731  1.          0.73806877         nan  0.45143893 -0.15645556\n",
      "  -0.43696084]\n",
      " [ 0.83453165  0.73806877  1.                 nan  0.54163014  0.03657376\n",
      "  -0.27249045]\n",
      " [        nan         nan         nan         nan         nan         nan\n",
      "          nan]\n",
      " [ 0.66292435  0.45143893  0.54163014         nan  1.          0.17022947\n",
      "  -0.3837863 ]\n",
      " [ 0.04408178 -0.15645556  0.03657376         nan  0.17022947  1.\n",
      "  -0.12265326]\n",
      " [-0.47191055 -0.43696084 -0.27249045         nan -0.3837863  -0.12265326\n",
      "   1.        ]]\n"
     ]
    }
   ],
   "source": [
    "import numpy as np\n",
    "\n",
    "# Dataset - World Happiness Report 2023\n",
    "df_happy = pd.read_csv('WHR2023.csv')\n",
    "\n",
    "# Select only numeric coloumns\n",
    "num_col = df_happy.select_dtypes(include='number')\n",
    "\n",
    "# Calculate correlation matrix for all number coloumns.\n",
    "corr_matrix = np.corrcoef(num_col, rowvar=False)\n",
    "print(corr_matrix)"
   ]
  },
  {
   "cell_type": "code",
   "execution_count": 459,
   "id": "1742be30-3099-4024-b031-e4ea14e802ef",
   "metadata": {},
   "outputs": [
    {
     "name": "stdout",
     "output_type": "stream",
     "text": [
      "Columns with Highest Correlation Coefficient is: ('Ladder score', 'Social support') with Correlation Coefficient of: 0.8345316508727755\n"
     ]
    }
   ],
   "source": [
    "# Find pair of columns with highest correlation coefficient and their names\n",
    "\n",
    "# Initialize variables\n",
    "highest_corr = 0\n",
    "highest_corr_pair = None\n",
    "\n",
    "# Find the number of columns\n",
    "col_len = len(num_col.columns)\n",
    "\n",
    "#Loop the first column name \n",
    "for i in range(col_len):\n",
    "    col1 = num_col.columns[i]\n",
    "    # print('1: ', col1)\n",
    "    \n",
    "    for j in range(i+1, col_len):\n",
    "        col2 = num_col.columns[j]  \n",
    "        # print('2: ', col2)\n",
    "        \n",
    "        # Find correlation between two columns\n",
    "        corr_coef = np.corrcoef(num_col[col1], num_col[col2])[0,1] \n",
    "        # print(corr_coef)\n",
    "\n",
    "        # Find highest correlation coefficient and it's pair\n",
    "        if corr_coef > highest_corr:\n",
    "            highest_corr = corr_coef\n",
    "            highest_corr_pair = (col1, col2)\n",
    "\n",
    "print('Columns with Highest Correlation Coefficient is:', highest_corr_pair, 'with Correlation Coefficient of:', highest_corr)\n",
    "  "
   ]
  },
  {
   "cell_type": "markdown",
   "id": "479dbd80-4bc0-4408-8cfc-f95d72ec0f56",
   "metadata": {},
   "source": [
    "# Q3 - Find Mean, Min, Max of 1000 random numbers using NumPy array"
   ]
  },
  {
   "cell_type": "code",
   "execution_count": 484,
   "id": "c7db46bc-dd3b-46a8-96b9-ad5cbc474606",
   "metadata": {},
   "outputs": [
    {
     "name": "stdout",
     "output_type": "stream",
     "text": [
      "Mean Value of Each Row:\n",
      " [  3.   8.  13.  18.  23.  28.  33.  38.  43.  48.  53.  58.  63.  68.\n",
      "  73.  78.  83.  88.  93.  98. 103. 108. 113. 118. 123. 128. 133. 138.\n",
      " 143. 148. 153. 158. 163. 168. 173. 178. 183. 188. 193. 198. 203. 208.\n",
      " 213. 218. 223. 228. 233. 238. 243. 248. 253. 258. 263. 268. 273. 278.\n",
      " 283. 288. 293. 298. 303. 308. 313. 318. 323. 328. 333. 338. 343. 348.\n",
      " 353. 358. 363. 368. 373. 378. 383. 388. 393. 398. 403. 408. 413. 418.\n",
      " 423. 428. 433. 438. 443. 448. 453. 458. 463. 468. 473. 478. 483. 488.\n",
      " 493. 498. 503. 508. 513. 518. 523. 528. 533. 538. 543. 548. 553. 558.\n",
      " 563. 568. 573. 578. 583. 588. 593. 598. 603. 608. 613. 618. 623. 628.\n",
      " 633. 638. 643. 648. 653. 658. 663. 668. 673. 678. 683. 688. 693. 698.\n",
      " 703. 708. 713. 718. 723. 728. 733. 738. 743. 748. 753. 758. 763. 768.\n",
      " 773. 778. 783. 788. 793. 798. 803. 808. 813. 818. 823. 828. 833. 838.\n",
      " 843. 848. 853. 858. 863. 868. 873. 878. 883. 888. 893. 898. 903. 908.\n",
      " 913. 918. 923. 928. 933. 938. 943. 948. 953. 958. 963. 968. 973. 978.\n",
      " 983. 988. 993. 998.]\n",
      "Minimum Value in Each Row:\n",
      " [  1   6  11  16  21  26  31  36  41  46  51  56  61  66  71  76  81  86\n",
      "  91  96 101 106 111 116 121 126 131 136 141 146 151 156 161 166 171 176\n",
      " 181 186 191 196 201 206 211 216 221 226 231 236 241 246 251 256 261 266\n",
      " 271 276 281 286 291 296 301 306 311 316 321 326 331 336 341 346 351 356\n",
      " 361 366 371 376 381 386 391 396 401 406 411 416 421 426 431 436 441 446\n",
      " 451 456 461 466 471 476 481 486 491 496 501 506 511 516 521 526 531 536\n",
      " 541 546 551 556 561 566 571 576 581 586 591 596 601 606 611 616 621 626\n",
      " 631 636 641 646 651 656 661 666 671 676 681 686 691 696 701 706 711 716\n",
      " 721 726 731 736 741 746 751 756 761 766 771 776 781 786 791 796 801 806\n",
      " 811 816 821 826 831 836 841 846 851 856 861 866 871 876 881 886 891 896\n",
      " 901 906 911 916 921 926 931 936 941 946 951 956 961 966 971 976 981 986\n",
      " 991 996]\n",
      "Maximum Value in Each Row:\n",
      " [   5   10   15   20   25   30   35   40   45   50   55   60   65   70\n",
      "   75   80   85   90   95  100  105  110  115  120  125  130  135  140\n",
      "  145  150  155  160  165  170  175  180  185  190  195  200  205  210\n",
      "  215  220  225  230  235  240  245  250  255  260  265  270  275  280\n",
      "  285  290  295  300  305  310  315  320  325  330  335  340  345  350\n",
      "  355  360  365  370  375  380  385  390  395  400  405  410  415  420\n",
      "  425  430  435  440  445  450  455  460  465  470  475  480  485  490\n",
      "  495  500  505  510  515  520  525  530  535  540  545  550  555  560\n",
      "  565  570  575  580  585  590  595  600  605  610  615  620  625  630\n",
      "  635  640  645  650  655  660  665  670  675  680  685  690  695  700\n",
      "  705  710  715  720  725  730  735  740  745  750  755  760  765  770\n",
      "  775  780  785  790  795  800  805  810  815  820  825  830  835  840\n",
      "  845  850  855  860  865  870  875  880  885  890  895  900  905  910\n",
      "  915  920  925  930  935  940  945  950  955  960  965  970  975  980\n",
      "  985  990  995 1000]\n",
      "Abs Max comparing Max and Min:\n",
      " [   5   10   15   20   25   30   35   40   45   50   55   60   65   70\n",
      "   75   80   85   90   95  100  105  110  115  120  125  130  135  140\n",
      "  145  150  155  160  165  170  175  180  185  190  195  200  205  210\n",
      "  215  220  225  230  235  240  245  250  255  260  265  270  275  280\n",
      "  285  290  295  300  305  310  315  320  325  330  335  340  345  350\n",
      "  355  360  365  370  375  380  385  390  395  400  405  410  415  420\n",
      "  425  430  435  440  445  450  455  460  465  470  475  480  485  490\n",
      "  495  500  505  510  515  520  525  530  535  540  545  550  555  560\n",
      "  565  570  575  580  585  590  595  600  605  610  615  620  625  630\n",
      "  635  640  645  650  655  660  665  670  675  680  685  690  695  700\n",
      "  705  710  715  720  725  730  735  740  745  750  755  760  765  770\n",
      "  775  780  785  790  795  800  805  810  815  820  825  830  835  840\n",
      "  845  850  855  860  865  870  875  880  885  890  895  900  905  910\n",
      "  915  920  925  930  935  940  945  950  955  960  965  970  975  980\n",
      "  985  990  995 1000]\n"
     ]
    }
   ],
   "source": [
    "#Generate NumPy array for 1000 numbers\n",
    "num = np.arange(1,1001,1)\n",
    "\n",
    "#Shape array with 5 columns\n",
    "arr = np.reshape(num, (200, 5))\n",
    "\n",
    "#Calculate mean of 5 consecutive numbers\n",
    "mean = np.mean(arr, axis=1) #axis = 1 will find mean for each row\n",
    "print('Mean Value of Each Row:\\n', mean)\n",
    "\n",
    "#Find the min number in each row\n",
    "min = np.min(arr, axis=1)\n",
    "print('Minimum Value in Each Row:\\n', min)\n",
    "\n",
    "#Find the max number in each row\n",
    "max = np.max(arr, axis=1)\n",
    "print('Maximum Value in Each Row:\\n', max)\n",
    "\n",
    "#Find the max number comparing the min and max array\n",
    "max_value = np.maximum(np.abs(max), np.abs(min))\n",
    "print('Abs Max comparing Max and Min:\\n', max_value)\n"
   ]
  },
  {
   "cell_type": "markdown",
   "id": "ea484e29-5f2c-4dac-9dba-64a60041bbcc",
   "metadata": {},
   "source": [
    "# Q4 - Connect to MySQL DB and create a table and maintain data"
   ]
  },
  {
   "cell_type": "code",
   "execution_count": 541,
   "id": "87d6470a-df90-4d46-a075-187bfcb6bb4a",
   "metadata": {},
   "outputs": [
    {
     "name": "stdout",
     "output_type": "stream",
     "text": [
      "('information_schema',)\n",
      "('mysql',)\n",
      "('performance_schema',)\n",
      "('sys',)\n",
      "('zsan',)\n"
     ]
    }
   ],
   "source": [
    "import mysql.connector\n",
    "\n",
    " \n",
    "# Connecting to mysql server\n",
    "conn = mysql.connector.connect(user = 'root',\n",
    "                               host = 'localhost',\n",
    "                                port = '3306',\n",
    "                               password='Name@1234',\n",
    "                              database = 'zsan')\n",
    " \n",
    "# print(conn)\n",
    "\n",
    "# Get the cursor for DB connection\n",
    "mycursor = conn.cursor()\n",
    "\n",
    "#Create a database named ZSAN.\n",
    "# mycursor.execute(\"CREATE DATABASE ZSAN\")\n",
    "\n",
    "# Display All database\n",
    "mycursor.execute(\"SHOW DATABASES\")\n",
    "for x in mycursor:\n",
    "  print(x)"
   ]
  },
  {
   "cell_type": "code",
   "execution_count": 543,
   "id": "d45a7c3e-cbee-4b0d-8212-1db78323b34a",
   "metadata": {},
   "outputs": [
    {
     "name": "stdout",
     "output_type": "stream",
     "text": [
      "('student',)\n",
      "('zsan1',)\n"
     ]
    }
   ],
   "source": [
    "# Create a table named 'student'\n",
    "mycursor.execute(\"CREATE TABLE IF NOT EXISTS STUDENT (id INT(3), name VARCHAR(45), class VARCHAR(45), subject VARCHAR(45))\")\n",
    "\n",
    "# Display all the tables\n",
    "mycursor.execute(\"SHOW TABLES\")\n",
    "\n",
    "# Loop all table names and print\n",
    "for x in mycursor:\n",
    "  print(x)"
   ]
  },
  {
   "cell_type": "code",
   "execution_count": 547,
   "id": "0161badc-f56d-4ea0-a962-99d96a5a8ccb",
   "metadata": {},
   "outputs": [],
   "source": [
    "# Insert a record into table \n",
    "\n",
    "mycursor.execute(\"INSERT INTO student (ID, Name, Class, Subject) VALUES (3, 'Maria', 'UG', 'Civil')\")\n",
    "conn.commit()"
   ]
  },
  {
   "cell_type": "code",
   "execution_count": 549,
   "id": "0fa01168-78cd-413d-bd82-79cf7bedffde",
   "metadata": {},
   "outputs": [
    {
     "name": "stdout",
     "output_type": "stream",
     "text": [
      "(1, 'Santhosh', 'PG', 'AI')\n",
      "(2, 'John', 'PG', 'Data Science')\n",
      "(3, 'Maria', 'UG', 'Civil')\n"
     ]
    }
   ],
   "source": [
    "# Select the records\n",
    "mycursor.execute(\"SELECT * from student\")\n",
    "tab = mycursor.fetchall()\n",
    "\n",
    "# Loop all the records and print\n",
    "for line in tab:\n",
    "    print(line)"
   ]
  },
  {
   "cell_type": "markdown",
   "id": "960d8e86-8f15-421a-83aa-6ac0bb52c751",
   "metadata": {},
   "source": [
    "# Q5 - EDA on Irish Dataset"
   ]
  },
  {
   "cell_type": "code",
   "execution_count": 566,
   "id": "64076d41-446c-47e0-af8c-452af8f9ec4b",
   "metadata": {},
   "outputs": [
    {
     "data": {
      "text/html": [
       "<div>\n",
       "<style scoped>\n",
       "    .dataframe tbody tr th:only-of-type {\n",
       "        vertical-align: middle;\n",
       "    }\n",
       "\n",
       "    .dataframe tbody tr th {\n",
       "        vertical-align: top;\n",
       "    }\n",
       "\n",
       "    .dataframe thead th {\n",
       "        text-align: right;\n",
       "    }\n",
       "</style>\n",
       "<table border=\"1\" class=\"dataframe\">\n",
       "  <thead>\n",
       "    <tr style=\"text-align: right;\">\n",
       "      <th></th>\n",
       "      <th>SepalLengthCm</th>\n",
       "      <th>SepalWidthCm</th>\n",
       "      <th>PetalLengthCm</th>\n",
       "      <th>PetalWidthCm</th>\n",
       "      <th>Species</th>\n",
       "    </tr>\n",
       "  </thead>\n",
       "  <tbody>\n",
       "    <tr>\n",
       "      <th>0</th>\n",
       "      <td>5.1</td>\n",
       "      <td>3.5</td>\n",
       "      <td>1.4</td>\n",
       "      <td>0.2</td>\n",
       "      <td>Iris-setosa</td>\n",
       "    </tr>\n",
       "    <tr>\n",
       "      <th>1</th>\n",
       "      <td>4.9</td>\n",
       "      <td>3.0</td>\n",
       "      <td>1.4</td>\n",
       "      <td>0.2</td>\n",
       "      <td>Iris-setosa</td>\n",
       "    </tr>\n",
       "    <tr>\n",
       "      <th>2</th>\n",
       "      <td>4.7</td>\n",
       "      <td>3.2</td>\n",
       "      <td>1.3</td>\n",
       "      <td>0.2</td>\n",
       "      <td>Iris-setosa</td>\n",
       "    </tr>\n",
       "    <tr>\n",
       "      <th>3</th>\n",
       "      <td>4.6</td>\n",
       "      <td>3.1</td>\n",
       "      <td>1.5</td>\n",
       "      <td>0.2</td>\n",
       "      <td>Iris-setosa</td>\n",
       "    </tr>\n",
       "    <tr>\n",
       "      <th>4</th>\n",
       "      <td>5.0</td>\n",
       "      <td>3.6</td>\n",
       "      <td>1.4</td>\n",
       "      <td>0.2</td>\n",
       "      <td>Iris-setosa</td>\n",
       "    </tr>\n",
       "  </tbody>\n",
       "</table>\n",
       "</div>"
      ],
      "text/plain": [
       "   SepalLengthCm  SepalWidthCm  PetalLengthCm  PetalWidthCm      Species\n",
       "0            5.1           3.5            1.4           0.2  Iris-setosa\n",
       "1            4.9           3.0            1.4           0.2  Iris-setosa\n",
       "2            4.7           3.2            1.3           0.2  Iris-setosa\n",
       "3            4.6           3.1            1.5           0.2  Iris-setosa\n",
       "4            5.0           3.6            1.4           0.2  Iris-setosa"
      ]
     },
     "execution_count": 566,
     "metadata": {},
     "output_type": "execute_result"
    }
   ],
   "source": [
    "# import the IRIS dataset and display first 5 records\n",
    "\n",
    "df_iris = pd.read_csv('iris.csv')\n",
    "df_iris.head()"
   ]
  },
  {
   "cell_type": "code",
   "execution_count": 568,
   "id": "f2eac822-21ff-4f07-b0a0-c6856951ee01",
   "metadata": {},
   "outputs": [
    {
     "data": {
      "text/plain": [
       "(150, 5)"
      ]
     },
     "execution_count": 568,
     "metadata": {},
     "output_type": "execute_result"
    }
   ],
   "source": [
    "# display the shape of dataset\n",
    "df_iris.shape"
   ]
  },
  {
   "cell_type": "code",
   "execution_count": 570,
   "id": "236e3add-f70c-46a0-878a-2e34bb57aaac",
   "metadata": {},
   "outputs": [
    {
     "name": "stdout",
     "output_type": "stream",
     "text": [
      "<class 'pandas.core.frame.DataFrame'>\n",
      "RangeIndex: 150 entries, 0 to 149\n",
      "Data columns (total 5 columns):\n",
      " #   Column         Non-Null Count  Dtype  \n",
      "---  ------         --------------  -----  \n",
      " 0   SepalLengthCm  150 non-null    float64\n",
      " 1   SepalWidthCm   150 non-null    float64\n",
      " 2   PetalLengthCm  150 non-null    float64\n",
      " 3   PetalWidthCm   150 non-null    float64\n",
      " 4   Species        150 non-null    object \n",
      "dtypes: float64(4), object(1)\n",
      "memory usage: 6.0+ KB\n"
     ]
    }
   ],
   "source": [
    "# display the data types of Iris dataset\n",
    "df_iris.info()"
   ]
  },
  {
   "cell_type": "code",
   "execution_count": 576,
   "id": "a25daeaa-9396-4e9e-add0-188f4a3aef36",
   "metadata": {},
   "outputs": [
    {
     "data": {
      "text/plain": [
       "SepalLengthCm    0\n",
       "SepalWidthCm     0\n",
       "PetalLengthCm    0\n",
       "PetalWidthCm     0\n",
       "Species          0\n",
       "dtype: int64"
      ]
     },
     "execution_count": 576,
     "metadata": {},
     "output_type": "execute_result"
    }
   ],
   "source": [
    "# display count for missing values in each column. \n",
    "df_iris.isnull().sum()"
   ]
  },
  {
   "cell_type": "code",
   "execution_count": 578,
   "id": "d5e5ee7a-6d39-4ef2-8ea5-36b4759dc1d5",
   "metadata": {},
   "outputs": [
    {
     "data": {
      "text/html": [
       "<div>\n",
       "<style scoped>\n",
       "    .dataframe tbody tr th:only-of-type {\n",
       "        vertical-align: middle;\n",
       "    }\n",
       "\n",
       "    .dataframe tbody tr th {\n",
       "        vertical-align: top;\n",
       "    }\n",
       "\n",
       "    .dataframe thead th {\n",
       "        text-align: right;\n",
       "    }\n",
       "</style>\n",
       "<table border=\"1\" class=\"dataframe\">\n",
       "  <thead>\n",
       "    <tr style=\"text-align: right;\">\n",
       "      <th></th>\n",
       "      <th>SepalLengthCm</th>\n",
       "      <th>SepalWidthCm</th>\n",
       "      <th>PetalLengthCm</th>\n",
       "      <th>PetalWidthCm</th>\n",
       "    </tr>\n",
       "  </thead>\n",
       "  <tbody>\n",
       "    <tr>\n",
       "      <th>count</th>\n",
       "      <td>150.000000</td>\n",
       "      <td>150.000000</td>\n",
       "      <td>150.000000</td>\n",
       "      <td>150.000000</td>\n",
       "    </tr>\n",
       "    <tr>\n",
       "      <th>mean</th>\n",
       "      <td>5.843333</td>\n",
       "      <td>3.054000</td>\n",
       "      <td>3.758667</td>\n",
       "      <td>1.198667</td>\n",
       "    </tr>\n",
       "    <tr>\n",
       "      <th>std</th>\n",
       "      <td>0.828066</td>\n",
       "      <td>0.433594</td>\n",
       "      <td>1.764420</td>\n",
       "      <td>0.763161</td>\n",
       "    </tr>\n",
       "    <tr>\n",
       "      <th>min</th>\n",
       "      <td>4.300000</td>\n",
       "      <td>2.000000</td>\n",
       "      <td>1.000000</td>\n",
       "      <td>0.100000</td>\n",
       "    </tr>\n",
       "    <tr>\n",
       "      <th>25%</th>\n",
       "      <td>5.100000</td>\n",
       "      <td>2.800000</td>\n",
       "      <td>1.600000</td>\n",
       "      <td>0.300000</td>\n",
       "    </tr>\n",
       "    <tr>\n",
       "      <th>50%</th>\n",
       "      <td>5.800000</td>\n",
       "      <td>3.000000</td>\n",
       "      <td>4.350000</td>\n",
       "      <td>1.300000</td>\n",
       "    </tr>\n",
       "    <tr>\n",
       "      <th>75%</th>\n",
       "      <td>6.400000</td>\n",
       "      <td>3.300000</td>\n",
       "      <td>5.100000</td>\n",
       "      <td>1.800000</td>\n",
       "    </tr>\n",
       "    <tr>\n",
       "      <th>max</th>\n",
       "      <td>7.900000</td>\n",
       "      <td>4.400000</td>\n",
       "      <td>6.900000</td>\n",
       "      <td>2.500000</td>\n",
       "    </tr>\n",
       "  </tbody>\n",
       "</table>\n",
       "</div>"
      ],
      "text/plain": [
       "       SepalLengthCm  SepalWidthCm  PetalLengthCm  PetalWidthCm\n",
       "count     150.000000    150.000000     150.000000    150.000000\n",
       "mean        5.843333      3.054000       3.758667      1.198667\n",
       "std         0.828066      0.433594       1.764420      0.763161\n",
       "min         4.300000      2.000000       1.000000      0.100000\n",
       "25%         5.100000      2.800000       1.600000      0.300000\n",
       "50%         5.800000      3.000000       4.350000      1.300000\n",
       "75%         6.400000      3.300000       5.100000      1.800000\n",
       "max         7.900000      4.400000       6.900000      2.500000"
      ]
     },
     "execution_count": 578,
     "metadata": {},
     "output_type": "execute_result"
    }
   ],
   "source": [
    "# holistic overview of the data's in the dataset\n",
    "df_iris.describe()"
   ]
  },
  {
   "cell_type": "code",
   "execution_count": 582,
   "id": "37cdbc5a-7b0b-4221-95b6-428f87854ed9",
   "metadata": {},
   "outputs": [
    {
     "name": "stdout",
     "output_type": "stream",
     "text": [
      "Unique Values of Target Variable \"Species\" are: ['Iris-setosa' 'Iris-versicolor' 'Iris-virginica']\n"
     ]
    }
   ],
   "source": [
    "# list out the unique values in the target variable which is 'Species'\n",
    "print('Unique Values of Target Variable \"Species\" are:', df_iris['Species'].unique())"
   ]
  },
  {
   "cell_type": "code",
   "execution_count": 656,
   "id": "bb97c2e8-eef2-4cb7-8071-0ce01fa66061",
   "metadata": {},
   "outputs": [
    {
     "data": {
      "image/png": "[encoded data removed]",
      "text/plain": [
       "<Figure size 640x480 with 1 Axes>"
      ]
     },
     "metadata": {},
     "output_type": "display_data"
    }
   ],
   "source": [
    "# Histogram using matplot library\n",
    "import matplotlib.pyplot as plt\n",
    "\n",
    "df_iris_ip = df_iris[['SepalLengthCm', 'SepalWidthCm', 'PetalLengthCm', 'PetalWidthCm']]\n",
    "\n",
    "plt.hist(df_iris_ip, density = True, histtype = 'bar')\n",
    "plt.show()\n",
    "\n"
   ]
  },
  {
   "cell_type": "code",
   "execution_count": 658,
   "id": "2de584b4-2b1b-4dc3-bb65-08b64bfc227d",
   "metadata": {},
   "outputs": [
    {
     "data": {
      "image/png": "[encoded data removed]",
      "text/plain": [
       "<Figure size 640x480 with 1 Axes>"
      ]
     },
     "metadata": {},
     "output_type": "display_data"
    }
   ],
   "source": [
    "# Boxplots using matplot library\n",
    "\n",
    "#adding label to each column\n",
    "lab = ['SepalLengthCm', 'SepalWidthCm', 'PetalLengthCm', 'PetalWidthCm']\n",
    "fig = plt.boxplot(df_iris_ip, labels = lab)"
   ]
  },
  {
   "cell_type": "code",
   "execution_count": 666,
   "id": "c2afa90a-bd4d-497d-b20b-895e7be289c4",
   "metadata": {},
   "outputs": [
    {
     "name": "stdout",
     "output_type": "stream",
     "text": [
      "[[ 1.         -0.10936925  0.87175416  0.81795363]\n",
      " [-0.10936925  1.         -0.4205161  -0.35654409]\n",
      " [ 0.87175416 -0.4205161   1.          0.9627571 ]\n",
      " [ 0.81795363 -0.35654409  0.9627571   1.        ]]\n"
     ]
    }
   ],
   "source": [
    "# Correlation Matrix for Input/Feature columns\n",
    "\n",
    "iris_corr = np.corrcoef(df_iris[['SepalLengthCm', 'SepalWidthCm', 'PetalLengthCm', 'PetalWidthCm']], rowvar=False)\n",
    "print(iris_corr)"
   ]
  },
  {
   "cell_type": "code",
   "execution_count": null,
   "id": "7f3cbb86-28e8-4135-997a-4cd7a4a37bc3",
   "metadata": {},
   "outputs": [],
   "source": []
  }
 ],
 "metadata": {
  "kernelspec": {
   "display_name": "Python 3 (ipykernel)",
   "language": "python",
   "name": "python3"
  },
  "language_info": {
   "codemirror_mode": {
    "name": "ipython",
    "version": 3
   },
   "file_extension": ".py",
   "mimetype": "text/x-python",
   "name": "python",
   "nbconvert_exporter": "python",
   "pygments_lexer": "ipython3",
   "version": "3.12.4"
  }
 },
 "nbformat": 4,
 "nbformat_minor": 5
}
